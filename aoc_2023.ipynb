{
 "cells": [
  {
   "cell_type": "markdown",
   "id": "706d9db2-c855-4ea2-8940-c7f1ad9aa01e",
   "metadata": {},
   "source": [
    "# Advent of Code 2023"
   ]
  },
  {
   "cell_type": "markdown",
   "id": "bac5b1bf-5715-41bc-8120-b0fe7e5047c6",
   "metadata": {},
   "source": [
    "## Dia 1"
   ]
  },
  {
   "cell_type": "code",
   "execution_count": 34,
   "id": "cae9d91f-aca0-4b7e-b719-7aebb4622266",
   "metadata": {},
   "outputs": [],
   "source": [
    "import requests\n",
    "import os\n",
    "\n",
    "COOKIE_SESSION=os.environ.get('COOKIE_SESSION')\n",
    "\n",
    "def get_content(url, cookie):\n",
    "    # Faz a requisição\n",
    "    response = requests.get(url, headers=cookie)\n",
    "\n",
    "    # Verifica se a requisição foi bem-sucedida (código de status 200)\n",
    "    if response.status_code == 200:\n",
    "        conteudo = response.text\n",
    "        print(type(conteudo))\n",
    "        return conteudo\n",
    "    else:\n",
    "        return f\"A requisição falhou com o código de status {response.status_code}\"\n",
    "    \n",
    "url = \"https://adventofcode.com/2023/day/1/input\"\n",
    "\n",
    "# Substitua 'SEU_COOKIE_AQUI' pelo valor real do seu cookie de sessão do Advent of Code\n",
    "cookie = {\n",
    "    \"Cookie\": COOKIE_SESSION\n",
    "}\n"
   ]
  },
  {
   "cell_type": "markdown",
   "id": "47372165-2e16-48cd-9e3a-09e1a1c92dd9",
   "metadata": {
    "tags": []
   },
   "source": [
    "### Primeiro Desafio"
   ]
  },
  {
   "cell_type": "code",
   "execution_count": 35,
   "id": "0549f164-fe8e-47d5-ac19-ae4cb4df33f2",
   "metadata": {},
   "outputs": [
    {
     "name": "stdout",
     "output_type": "stream",
     "text": [
      "<class 'str'>\n",
      "Soma total dos valores de calibração: 54667\n"
     ]
    }
   ],
   "source": [
    "def extrair_valores_calibracao_linha(linha):\n",
    "    valores_numericos = [caracter for caracter in linha if caracter.isnumeric()]\n",
    "\n",
    "    if len(valores_numericos) == 0:\n",
    "        return [0]\n",
    "    elif len(valores_numericos) == 1:\n",
    "        return [int(valores_numericos[0])]\n",
    "    else:\n",
    "        primeiro = int(valores_numericos[0])\n",
    "        ultimo = int(valores_numericos[-1])\n",
    "        return [primeiro, ultimo]\n",
    "\n",
    "def calcular_soma_calibracao_documento(documento):\n",
    "    linhas = documento.splitlines()\n",
    "    soma_total = sum(\n",
    "        int(str(extrair_valores_calibracao_linha(linha)[0]) + str(extrair_valores_calibracao_linha(linha)[-1]))\n",
    "        for linha in linhas\n",
    "    )\n",
    "    return soma_total\n",
    "\n",
    "\n",
    "documento_calibracao = get_content(url=url, cookie=cookie)\n",
    "\n",
    "soma_total = calcular_soma_calibracao_documento(documento_calibracao)\n",
    "print(f\"Soma total dos valores de calibração: {soma_total}\")"
   ]
  },
  {
   "cell_type": "markdown",
   "id": "c5400d0e-8e2e-4e5e-88d8-1433d75bdb06",
   "metadata": {},
   "source": [
    "### Segundo Desafio"
   ]
  },
  {
   "cell_type": "code",
   "execution_count": 36,
   "id": "1863f542-047d-47e6-be74-ba0d357b5204",
   "metadata": {},
   "outputs": [
    {
     "name": "stdout",
     "output_type": "stream",
     "text": [
      "<class 'str'>\n",
      "Soma total dos valores de calibração: 54203\n"
     ]
    }
   ],
   "source": [
    "def extrair_valores_calibracao_linha(linha):\n",
    "    valores_numericos = [caracter for caracter in linha if caracter.isnumeric()]\n",
    "\n",
    "    if len(valores_numericos) == 0:\n",
    "        return [0]\n",
    "    elif len(valores_numericos) == 1:\n",
    "        return [int(valores_numericos[0])]\n",
    "    else:\n",
    "        primeiro = int(valores_numericos[0])\n",
    "        ultimo = int(valores_numericos[-1])\n",
    "        return [primeiro, ultimo]\n",
    "\n",
    "def substituir_strings(linha):\n",
    "    replacements_dictionary = {'one': 'on1e', 'two': 'tw2o', 'three': 'thr3e', 'four': 'fo4ur', 'five': 'fi5ve',\n",
    "                               'six': 'si6x', 'seven': 'sev7en', 'eight': 'ei8ght', 'nine': 'ni9ne'}\n",
    "\n",
    "    # Substituir palavras pelo dicionário\n",
    "    for key, value in replacements_dictionary.items():\n",
    "        linha = linha.replace(key, value)\n",
    "\n",
    "    return linha\n",
    "\n",
    "def calcular_soma_calibracao_documento(documento):\n",
    "    linhas = documento.splitlines()\n",
    "    soma_total = sum(\n",
    "        int(str(extrair_valores_calibracao_linha(substituir_strings(linha))[0]) +\n",
    "            str(extrair_valores_calibracao_linha(substituir_strings(linha))[-1]))\n",
    "        for linha in linhas\n",
    "    )\n",
    "    return soma_total\n",
    "\n",
    "\n",
    "documento_calibracao = get_content(url=url, cookie=cookie)\n",
    "\n",
    "soma_total = calcular_soma_calibracao_documento(documento_calibracao)\n",
    "print(f\"Soma total dos valores de calibração: {soma_total}\")\n"
   ]
  },
  {
   "cell_type": "markdown",
   "id": "8be55853-b33d-418b-a65c-957289546570",
   "metadata": {
    "tags": []
   },
   "source": [
    "## Dia 2"
   ]
  },
  {
   "cell_type": "markdown",
   "id": "e0191b09-4698-42c4-8ebe-0905faa57cc3",
   "metadata": {
    "tags": []
   },
   "source": [
    "### Primeiro Desafio"
   ]
  },
  {
   "cell_type": "markdown",
   "id": "3bf41b5e-986c-44d6-8649-abc70a7061c4",
   "metadata": {
    "jp-MarkdownHeadingCollapsed": true,
    "tags": []
   },
   "source": [
    "#### Tentativa errada"
   ]
  },
  {
   "cell_type": "code",
   "execution_count": 123,
   "id": "1b97187a-a378-48a4-b9b2-f48bedb4fb70",
   "metadata": {},
   "outputs": [],
   "source": [
    "import requests\n",
    "import os\n",
    "import re\n",
    "\n",
    "COOKIE_SESSION=os.environ.get('COOKIE_SESSION')\n",
    "\n",
    "def get_content(url, cookie):\n",
    "    # Faz a requisição\n",
    "    response = requests.get(url, headers=cookie)\n",
    "\n",
    "    # Verifica se a requisição foi bem-sucedida (código de status 200)\n",
    "    if response.status_code == 200:\n",
    "        conteudo = response.text\n",
    "        #print(type(conteudo))\n",
    "        #print(conteudo)\n",
    "        return list(conteudo)\n",
    "    else:\n",
    "        return f\"A requisição falhou com o código de status {response.status_code}\"\n",
    "    \n",
    "url2 = \"https://adventofcode.com/2023/day/2/input\"\n",
    "\n",
    "# Substitua 'SEU_COOKIE_AQUI' pelo valor real do seu cookie de sessão do Advent of Code\n",
    "cookie = {\n",
    "    \"Cookie\": COOKIE_SESSION\n",
    "}"
   ]
  },
  {
   "cell_type": "code",
   "execution_count": 103,
   "id": "7b2ef220-7ecc-447d-94e2-55466eae96fe",
   "metadata": {},
   "outputs": [],
   "source": [
    "import requests\n",
    "import os\n",
    "import re\n",
    "\n",
    "COOKIE_SESSION=os.environ.get('COOKIE_SESSION')\n",
    "\n",
    "def get_content(url, cookie):\n",
    "    response = requests.get(url, headers=cookie)\n",
    "    content = response.text\n",
    "    content_temp = content.replace(';', ',')\n",
    "\n",
    " # Use expressão regular para encontrar os dados dos jogos\n",
    "    pattern = re.compile(r'Game \\d+:(.*?)(?=Game \\d+|$)', re.DOTALL)\n",
    "    matches = re.findall(pattern, content_temp)\n",
    "    #print(matches)\n",
    "\n",
    "    # Transforme cada jogo em uma lista de strings, removendo quebras de linha e dividindo por vírgulas e ponto e vírgula\n",
    "    games_data = [re.split(r',', match.replace('\\n', '').strip()) for match in matches]\n",
    "    print(games_data)\n",
    "\n",
    "    return games_data\n",
    "\n",
    "\n",
    "    \n",
    "url2 = \"https://adventofcode.com/2023/day/2/input\"\n",
    "\n",
    "# Substitua 'SEU_COOKIE_AQUI' pelo valor real do seu cookie de sessão do Advent of Code\n",
    "cookie = {\n",
    "    \"Cookie\": COOKIE_SESSION\n",
    "}"
   ]
  },
  {
   "cell_type": "code",
   "execution_count": 79,
   "id": "d3afabcc-1670-41d3-9787-d185178bd84e",
   "metadata": {},
   "outputs": [
    {
     "name": "stdout",
     "output_type": "stream",
     "text": [
      "Jogos possíveis: [5, 22, 27, 30, 69, 73, 91]\n",
      "Soma dos IDs dos jogos possíveis: 317\n"
     ]
    }
   ],
   "source": [
    "\n",
    "\n",
    "\n",
    "\n",
    "def possiveis_jogos(configuracao, registros):\n",
    "    possiveis = []\n",
    "    \n",
    "    for i, registro in enumerate(registros):\n",
    "        contagem_cores = {'red': 0, 'green': 0, 'blue': 0}\n",
    "        \n",
    "        for conjunto in registro:\n",
    "            conjunto_temp = conjunto.strip()\n",
    "            partes = conjunto_temp.split()\n",
    "            quantidade = int(partes[0])\n",
    "            cor = partes[1]\n",
    "\n",
    "            contagem_cores[cor] += quantidade\n",
    "\n",
    "        if (\n",
    "            contagem_cores['red'] <= configuracao[0] and\n",
    "            contagem_cores['green'] <= configuracao[1] and\n",
    "            contagem_cores['blue'] <= configuracao[2]\n",
    "        ):\n",
    "            possiveis.append(i + 1)\n",
    "\n",
    "    return possiveis\n",
    "\n",
    "# Exemplo de uso com os dados fornecidos\n",
    "configuracao_sacola = (12, 13, 14)\n",
    "registros_jogos = get_content(url=url2, cookie=cookie)\n",
    "\n",
    "jogos_possiveis = possiveis_jogos(configuracao_sacola, registros_jogos)\n",
    "\n",
    "print(\"Jogos possíveis:\", jogos_possiveis)\n",
    "print(\"Soma dos IDs dos jogos possíveis:\", sum(jogos_possiveis))\n"
   ]
  },
  {
   "cell_type": "markdown",
   "id": "c23d3c60-f82c-4057-9524-8a968c934f56",
   "metadata": {
    "tags": []
   },
   "source": [
    "#### Corrigido"
   ]
  },
  {
   "cell_type": "code",
   "execution_count": 126,
   "id": "1f95f3a5-b867-4563-adde-ff5d1782fa64",
   "metadata": {},
   "outputs": [
    {
     "name": "stdout",
     "output_type": "stream",
     "text": [
      "2156\n"
     ]
    }
   ],
   "source": [
    "import re\n",
    "\n",
    "def calcular_pontos(configuracao_sacola, registros_jogos):\n",
    "    maxr, maxg, maxb = configuracao_sacola\n",
    "    result = 0\n",
    "\n",
    "    for linha in registros_jogos:\n",
    "        # Separar o número do jogo e os sets\n",
    "        match = re.match(r'Game (\\d+): (.+)', linha)\n",
    "        if not match:\n",
    "            continue\n",
    "\n",
    "        num_jogo, sets = match.groups()\n",
    "        num_jogo = int(num_jogo)\n",
    "\n",
    "        # Dividir os sets\n",
    "        sets = sets.split(';')\n",
    "        add = True\n",
    "\n",
    "        for set in sets:\n",
    "            # Extrair valores e cores\n",
    "            valores_cores = re.findall(r'(\\d+) (\\w+)', set)\n",
    "            \n",
    "            for valor, cor in valores_cores:\n",
    "                valor = int(valor)\n",
    "\n",
    "                # Verificar se está dentro dos limites\n",
    "                if (cor == 'red' and valor > maxr) or \\\n",
    "                   (cor == 'green' and valor > maxg) or \\\n",
    "                   (cor == 'blue' and valor > maxb):\n",
    "                    add = False\n",
    "                    break\n",
    "\n",
    "        if add:\n",
    "            result += num_jogo\n",
    "\n",
    "    return result\n",
    "\n",
    "with open('input_day2.txt','r') as f:\n",
    "    content=f.readlines()\n",
    "\n",
    "# Exemplo de uso com os dados fornecidos\n",
    "configuracao_sacola = (12, 13, 14)\n",
    "#registros_jogos = get_content(url=url2, cookie=cookie)\n",
    "\n",
    "resultado = calcular_pontos(configuracao_sacola, content)\n",
    "print(resultado)\n"
   ]
  },
  {
   "cell_type": "markdown",
   "id": "51fa1cef-2549-40ee-ba6c-a10eb2adbb8c",
   "metadata": {},
   "source": [
    "### Segundo Desafio"
   ]
  },
  {
   "cell_type": "code",
   "execution_count": 133,
   "id": "54069a21-6b6f-45d7-a17a-da074c6c4eaa",
   "metadata": {},
   "outputs": [
    {
     "name": "stdout",
     "output_type": "stream",
     "text": [
      "66909\n"
     ]
    }
   ],
   "source": [
    "import re\n",
    "\n",
    "def calcular_potencia_total(content):\n",
    "    potencia_total = 0\n",
    "    for linha in content:\n",
    "        conjuntos = re.findall(r'\\d+ [rgb]', linha)\n",
    "        cubos_minimos = [max(map(int, re.findall(r'(\\d+) {}'.format(cor), linha))) for cor in 'rgb']\n",
    "        potencia_total += cubos_minimos[0] * cubos_minimos[1] * cubos_minimos[2]\n",
    "    return potencia_total\n",
    "\n",
    "with open('input_day2.txt', 'r') as f:\n",
    "    conteudo = f.readlines()\n",
    "\n",
    "resultado = calcular_potencia_total(content)\n",
    "print(resultado)\n"
   ]
  },
  {
   "cell_type": "markdown",
   "id": "2f2ce308-8c9d-4fa1-aad1-7c90ec12b7a3",
   "metadata": {},
   "source": [
    "## Dia 3"
   ]
  },
  {
   "cell_type": "code",
   "execution_count": 1,
   "id": "b2f9587d-808e-4ba3-b894-0b3d3575c850",
   "metadata": {},
   "outputs": [],
   "source": [
    "with open('input_day3.txt','r') as f:\n",
    "    content=f.readlines()"
   ]
  },
  {
   "cell_type": "markdown",
   "id": "3479a2f1-6894-44f5-94da-9b971dd7a769",
   "metadata": {},
   "source": [
    "### Primeira e Segunda Partes"
   ]
  },
  {
   "cell_type": "code",
   "execution_count": 19,
   "metadata": {},
   "outputs": [
    {
     "name": "stdout",
     "output_type": "stream",
     "text": [
      "Soma total das partes: 535078\n",
      "Produto total das partes com dois elementos: 75312571\n"
     ]
    }
   ],
   "source": [
    "from collections import defaultdict\n",
    "from math import prod\n",
    "from re import finditer\n",
    "\n",
    "def inicializar_estruturas_dados():\n",
    "    return defaultdict(list), list(open('input_day3.txt')), {(linha, coluna) for linha in range(140)\n",
    "                                                               for coluna in range(140)\n",
    "                                                               if tabuleiro[linha][coluna] not in '01234566789.'}\n",
    "\n",
    "def encontrar_ocorrencias_numeros_na_linha(linha_atual):\n",
    "    return finditer(r'\\d+', linha_atual)\n",
    "\n",
    "def determinar_colunas_ocupadas(match_numero):\n",
    "    return range(*match_numero.span())\n",
    "\n",
    "def determinar_posicoes_vizinhas(linha, colunas_ocupadas):\n",
    "    return {(linha + desloc_linha, coluna + desloc_coluna) \n",
    "            for desloc_linha in (-1, 0, 1) \n",
    "            for desloc_coluna in (-1, 0, 1)\n",
    "            for coluna in colunas_ocupadas}\n",
    "\n",
    "def adicionar_valores_as_partes(posicoes_vizinhas, partes, numero):\n",
    "    for posicao in posicoes_vizinhas & caracteres_validos:\n",
    "        partes[posicao].append(int(numero[0]))\n",
    "\n",
    "def calcular_resultados(partes):\n",
    "    soma_total = sum(sum(valores) for valores in partes.values())\n",
    "    produto_total = sum(prod(valores) for valores in partes.values() if len(valores) == 2)\n",
    "    return soma_total, produto_total\n",
    "\n",
    "def imprimir_resultados(soma_total, produto_total):\n",
    "    print(\"Soma total das partes:\", soma_total)\n",
    "    print(\"Produto total das partes com dois elementos:\", produto_total)\n",
    "\n",
    "def rodar_jogos():\n",
    "    partes, tabuleiro, caracteres_validos = inicializar_estruturas_dados()\n",
    "\n",
    "    for linha, linha_atual in enumerate(tabuleiro):\n",
    "        for match_numero in encontrar_ocorrencias_numeros_na_linha(linha_atual):\n",
    "            colunas_ocupadas = determinar_colunas_ocupadas(match_numero)\n",
    "            posicoes_vizinhas = determinar_posicoes_vizinhas(linha, colunas_ocupadas)\n",
    "            adicionar_valores_as_partes(posicoes_vizinhas, partes, match_numero)\n",
    "\n",
    "    soma_total, produto_total = calcular_resultados(partes)\n",
    "    imprimir_resultados(soma_total, produto_total)\n",
    "\n",
    "rodar_jogos()\n"
   ]
  },
  {
   "cell_type": "markdown",
   "id": "55fa5e46-d3f4-42d2-93c2-90c480a34e48",
   "metadata": {},
   "source": [
    "## Dia 4"
   ]
  },
  {
   "cell_type": "code",
   "execution_count": 19,
   "id": "63448ea5-3fd1-4f6b-8473-83c1d0b8b2ed",
   "metadata": {},
   "outputs": [],
   "source": [
    "with open('input_day4.txt','r') as f:\n",
    "    content=f.readlines()"
   ]
  },
  {
   "cell_type": "markdown",
   "id": "29988696-ca8f-4de9-b97f-e1967b10ac1e",
   "metadata": {},
   "source": [
    "### Primeira Parte"
   ]
  },
  {
   "cell_type": "code",
   "execution_count": 20,
   "id": "48ac4d3b-c3ca-499e-9d72-1c03a7df33ca",
   "metadata": {},
   "outputs": [
    {
     "name": "stdout",
     "output_type": "stream",
     "text": [
      "Total de pontos em 204 partidas: 27059\n"
     ]
    }
   ],
   "source": [
    "from collections import defaultdict\n",
    "\n",
    "def converter_entrada(entrada):\n",
    "    cartoes = []\n",
    "    \n",
    "    for linha in entrada:\n",
    "        # Remove espaços extras e divide a linha pelo caractere '|'\n",
    "        partes = linha.strip().split('|')\n",
    "        \n",
    "        # Separa os números vencedores e jogados\n",
    "        numeros_vencedores = partes[0].split(':')[1].split()\n",
    "        numeros_jogados = partes[1].split()\n",
    "        \n",
    "        # Formata a linha no estilo utilizado no código anterior\n",
    "        cartao_formatado = \" \".join(numeros_vencedores) + \" | \" + \" \".join(numeros_jogados)\n",
    "        \n",
    "        # Adiciona a linha formatada à lista de cartões\n",
    "        cartoes.append(cartao_formatado)\n",
    "    \n",
    "    # Retorna a lista completa de cartões como strings\n",
    "    return cartoes\n",
    "\n",
    "def calcular_pontos(cartoes):\n",
    "    pontuacao = defaultdict(list)\n",
    "\n",
    "    for i, linha in enumerate(cartoes):\n",
    "        numeros_vencedores, numeros_jogados = linha.split('|')\n",
    "        numeros_vencedores = set(map(int, numeros_vencedores.split()))\n",
    "        numeros_jogados = list(map(int, numeros_jogados.split()))\n",
    "\n",
    "        numeros_acertados = [num for num in numeros_jogados if num in numeros_vencedores]\n",
    "\n",
    "        pontuacao[f'Game {i+1}'].append(len(numeros_acertados))\n",
    "    \n",
    "    lista_pontuacao = [valor[0] for valor in pontuacao.values()]\n",
    "\n",
    "    # Calcular a pontuação total\n",
    "    total_partidas = len(pontuacao)\n",
    "   \n",
    "    pontuacao_total = sum(int(2**(n - 1)) for n in lista_pontuacao)\n",
    "\n",
    "    return total_partidas, pontuacao_total, lista_pontuacao\n",
    "\n",
    "# Exemplo de uso\n",
    "cards = converter_entrada(content)\n",
    "partidas, resultado, pontuacao = calcular_pontos(cards)\n",
    "print(f\"Total de pontos em {partidas} partidas: {resultado}\")\n"
   ]
  },
  {
   "cell_type": "markdown",
   "id": "3b920bfd-84d8-454a-8a97-04d6af5ac74d",
   "metadata": {},
   "source": [
    "### Segunda Parte"
   ]
  },
  {
   "cell_type": "code",
   "execution_count": 21,
   "id": "ed015ff9-ea77-4964-b5a4-248e2d1e29c1",
   "metadata": {},
   "outputs": [
    {
     "name": "stdout",
     "output_type": "stream",
     "text": [
      "Total com cópias de raspadinhas: 5744979\n"
     ]
    }
   ],
   "source": [
    "from typing import List\n",
    "\n",
    "def calcular_total_scratchcards(pontuacao: List[int]) -> int:\n",
    "    copias = [1] * len(pontuacao)\n",
    "\n",
    "    for i, n in enumerate(pontuacao):\n",
    "        copias[i + 1:i + n + 1] = [x + copias[i] for x in copias[i + 1:i + n + 1]]\n",
    "\n",
    "    return sum(copias)\n",
    "\n",
    "# Exemplo de uso com sua lista de pontuações\n",
    "raspa_copias = calcular_total_scratchcards(pontuacao)\n",
    "\n",
    "print('Total com cópias de raspadinhas:', raspa_copias)\n"
   ]
  },
  {
   "cell_type": "markdown",
   "id": "74b3f408-cf3c-40da-b36d-540cc12f5892",
   "metadata": {
    "jp-MarkdownHeadingCollapsed": true,
    "tags": []
   },
   "source": [
    "#### Old"
   ]
  },
  {
   "cell_type": "code",
   "execution_count": 23,
   "id": "1a8453fc-2138-4040-aa01-493f064cd1f0",
   "metadata": {},
   "outputs": [
    {
     "name": "stdout",
     "output_type": "stream",
     "text": [
      "defaultdict(<class 'list'>, {'Game 1': [10], 'Game 2': [10], 'Game 3': [4], 'Game 4': [10], 'Game 5': [10], 'Game 6': [10], 'Game 7': [2], 'Game 8': [3], 'Game 9': [3], 'Game 10': [4], 'Game 11': [10], 'Game 12': [4], 'Game 13': [9], 'Game 14': [6], 'Game 15': [6], 'Game 16': [7], 'Game 17': [2], 'Game 18': [5], 'Game 19': [3], 'Game 20': [0], 'Game 21': [0], 'Game 22': [1], 'Game 23': [0], 'Game 24': [3], 'Game 25': [9], 'Game 26': [8], 'Game 27': [1], 'Game 28': [10], 'Game 29': [0], 'Game 30': [9], 'Game 31': [1], 'Game 32': [10], 'Game 33': [10], 'Game 34': [0], 'Game 35': [6], 'Game 36': [10], 'Game 37': [7], 'Game 38': [9], 'Game 39': [2], 'Game 40': [8], 'Game 41': [2], 'Game 42': [0], 'Game 43': [1], 'Game 44': [0], 'Game 45': [2], 'Game 46': [2], 'Game 47': [0], 'Game 48': [0], 'Game 49': [3], 'Game 50': [0], 'Game 51': [3], 'Game 52': [8], 'Game 53': [10], 'Game 54': [6], 'Game 55': [1], 'Game 56': [2], 'Game 57': [0], 'Game 58': [5], 'Game 59': [2], 'Game 60': [2], 'Game 61': [0], 'Game 62': [0], 'Game 63': [0], 'Game 64': [10], 'Game 65': [4], 'Game 66': [2], 'Game 67': [10], 'Game 68': [9], 'Game 69': [7], 'Game 70': [0], 'Game 71': [4], 'Game 72': [6], 'Game 73': [0], 'Game 74': [3], 'Game 75': [0], 'Game 76': [1], 'Game 77': [1], 'Game 78': [0], 'Game 79': [10], 'Game 80': [10], 'Game 81': [4], 'Game 82': [8], 'Game 83': [10], 'Game 84': [4], 'Game 85': [7], 'Game 86': [7], 'Game 87': [10], 'Game 88': [10], 'Game 89': [3], 'Game 90': [0], 'Game 91': [5], 'Game 92': [0], 'Game 93': [0], 'Game 94': [1], 'Game 95': [2], 'Game 96': [1], 'Game 97': [0], 'Game 98': [0], 'Game 99': [1], 'Game 100': [0], 'Game 101': [10], 'Game 102': [0], 'Game 103': [10], 'Game 104': [6], 'Game 105': [0], 'Game 106': [10], 'Game 107': [4], 'Game 108': [10], 'Game 109': [10], 'Game 110': [10], 'Game 111': [10], 'Game 112': [2], 'Game 113': [9], 'Game 114': [1], 'Game 115': [4], 'Game 116': [5], 'Game 117': [0], 'Game 118': [4], 'Game 119': [0], 'Game 120': [0], 'Game 121': [2], 'Game 122': [1], 'Game 123': [0], 'Game 124': [10], 'Game 125': [10], 'Game 126': [10], 'Game 127': [10], 'Game 128': [10], 'Game 129': [10], 'Game 130': [10], 'Game 131': [6], 'Game 132': [5], 'Game 133': [6], 'Game 134': [3], 'Game 135': [7], 'Game 136': [6], 'Game 137': [9], 'Game 138': [5], 'Game 139': [5], 'Game 140': [1], 'Game 141': [5], 'Game 142': [2], 'Game 143': [0], 'Game 144': [1], 'Game 145': [2], 'Game 146': [1], 'Game 147': [0], 'Game 148': [9], 'Game 149': [8], 'Game 150': [4], 'Game 151': [10], 'Game 152': [1], 'Game 153': [10], 'Game 154': [7], 'Game 155': [6], 'Game 156': [1], 'Game 157': [5], 'Game 158': [0], 'Game 159': [0], 'Game 160': [3], 'Game 161': [2], 'Game 162': [1], 'Game 163': [0], 'Game 164': [7], 'Game 165': [3], 'Game 166': [7], 'Game 167': [8], 'Game 168': [10], 'Game 169': [10], 'Game 170': [10], 'Game 171': [2], 'Game 172': [10], 'Game 173': [2], 'Game 174': [9], 'Game 175': [8], 'Game 176': [9], 'Game 177': [4], 'Game 178': [0], 'Game 179': [2], 'Game 180': [2], 'Game 181': [4], 'Game 182': [0], 'Game 183': [0], 'Game 184': [1], 'Game 185': [0], 'Game 186': [10], 'Game 187': [0], 'Game 188': [10], 'Game 189': [8], 'Game 190': [2], 'Game 191': [6], 'Game 192': [10], 'Game 193': [10], 'Game 194': [10], 'Game 195': [8], 'Game 196': [4], 'Game 197': [5], 'Game 198': [4], 'Game 199': [4], 'Game 200': [4], 'Game 201': [0], 'Game 202': [2], 'Game 203': [0], 'Game 204': [0]})\n",
      "[10, 4, 10, 10, 10, 2, 3, 3, 4, 10, 4, 9, 6, 6, 7, 2, 5, 3, 0, 0, 1, 0, 3, 9, 8, 1, 10, 0, 9, 1, 10, 10, 0, 6, 10, 7, 9, 2, 8, 2, 0, 1, 0, 2, 2, 0, 0, 3, 0, 3, 8, 10, 6, 1, 2, 0, 5, 2, 2, 0, 0, 0, 10, 4, 2, 10, 9, 7, 0, 4, 6, 0, 3, 0, 1, 1, 0, 10, 10, 4, 8, 10, 4, 7, 7, 10, 10, 3, 0, 5, 0, 0, 1, 2, 1, 0, 0, 1, 0, 10, 0, 10, 6, 0, 10, 4, 10, 10, 10, 10, 2, 9, 1, 4, 5, 0, 4, 0, 0, 2, 1, 0, 10, 10, 10, 10, 10, 10, 10, 6, 5, 6, 3, 7, 6, 9, 5, 5, 1, 5, 2, 0, 1, 2, 1, 0, 9, 8, 4, 10, 1, 10, 7, 6, 1, 5, 0, 0, 3, 2, 1, 0, 7, 3, 7, 8, 10, 10, 10, 2, 10, 2, 9, 8, 9, 4, 0, 2, 2, 4, 0, 0, 1, 0, 10, 0, 10, 8, 2, 6, 10, 10, 10, 8, 4, 5, 4, 4, 4, 0, 2, 0, 0]\n",
      "160\n",
      "Total de pontos: 1461501637330902918203684832716283019655932543901\n"
     ]
    }
   ],
   "source": [
    "from collections import defaultdict\n",
    "\n",
    "def converter_entrada(entrada):\n",
    "    cartoes = []\n",
    "    \n",
    "    for linha in entrada:\n",
    "        # Remove espaços extras e divide a linha pelo caractere '|'\n",
    "        partes = linha.strip().split('|')\n",
    "        \n",
    "        # Separa os números vencedores e jogados\n",
    "        numeros_vencedores = partes[0].split(':')[1].split()\n",
    "        numeros_jogados = partes[1].split()\n",
    "        \n",
    "        # Formata a linha no estilo utilizado no código anterior\n",
    "        cartao_formatado = \" \".join(numeros_vencedores) + \" | \" + \" \".join(numeros_jogados)\n",
    "        \n",
    "        # Adiciona a linha formatada à lista de cartões\n",
    "        cartoes.append(cartao_formatado)\n",
    "    \n",
    "    # Retorna a lista completa de cartões como strings\n",
    "    return cartoes\n",
    "\n",
    "def calcular_pontos(cartoes):\n",
    "    # Inicializa o dicionário com defaultdict para facilitar a criação de novas chaves\n",
    "    pontuacao = defaultdict(list)\n",
    "    n = 0\n",
    "    \n",
    "    # Itera sobre cada linha dos cartões\n",
    "    for i, linha in enumerate(cartoes):\n",
    "        # Separa os números vencedores e jogados\n",
    "        numeros_vencedores, numeros_jogados = linha.split('|')\n",
    "        \n",
    "        # Converte os números vencedores para uma lista de inteiros\n",
    "        numeros_vencedores = list(map(int, numeros_vencedores.split()))\n",
    "        \n",
    "        # Converte os números jogados para uma lista de inteiros\n",
    "        numeros_jogados = list(map(int, numeros_jogados.split()))\n",
    "        \n",
    "        # Cria uma lista auxiliar com todos os valores jogados\n",
    "        #todos_valores_jogados = set(numeros_jogados)\n",
    "        \n",
    "        # Filtra os números jogados que estão presentes na lista de vencedores\n",
    "        numeros_acertados = [num for num in numeros_jogados if num in numeros_vencedores]\n",
    "        \n",
    "        # Adiciona a pontuação ao dicionário\n",
    "        pontuacao[f'Game {i+1}'].append(len(numeros_acertados))\n",
    "    print(pontuacao)\n",
    "    \n",
    "    # Calcula a pontuação total\n",
    "    valores_sum = [sum(pontuacao[key]) for key in pontuacao.keys()][1:]\n",
    "    print(valores_sum)\n",
    "    \n",
    "    for i in valores_sum:\n",
    "        if i > 0:\n",
    "            n += 1\n",
    "        else:\n",
    "            pass\n",
    "    \n",
    "    print(n)\n",
    "                   \n",
    "    primeiro_valor = 2 ** n\n",
    "    \n",
    "    # Soma a pontuação total\n",
    "    pontuacao_total = sum(valores_sum) + primeiro_valor\n",
    "    \n",
    "    return pontuacao_total\n",
    "\n",
    "# Exemplo de uso\n",
    "cards = converter_entrada(content)\n",
    "resultado = calcular_pontos(cards)\n",
    "print(f\"Total de pontos: {resultado}\")\n"
   ]
  },
  {
   "cell_type": "markdown",
   "id": "3945f723-b87d-488a-9c7b-0af4d6066e07",
   "metadata": {},
   "source": [
    "## Dia 5"
   ]
  },
  {
   "cell_type": "code",
   "execution_count": 11,
   "id": "6df285c0-cc50-4469-a76e-a8018e7abdbf",
   "metadata": {},
   "outputs": [],
   "source": [
    "# Altere o nome do arquivo conforme necessário\n",
    "file_name = 'input_day5.txt'"
   ]
  },
  {
   "cell_type": "markdown",
   "metadata": {},
   "source": [
    "### Primeira Parte"
   ]
  },
  {
   "cell_type": "code",
   "execution_count": 12,
   "id": "4341549e-b51c-4b90-b335-1071bdc7fd86",
   "metadata": {},
   "outputs": [
    {
     "name": "stdout",
     "output_type": "stream",
     "text": [
      "173706076\n"
     ]
    }
   ],
   "source": [
    "from functools import reduce\n",
    "\n",
    "def converter_semente_para_localizacao(valor_semente, mapeamento_semente_localizacao):\n",
    "    _, *intervalos = mapeamento_semente_localizacao.split('\\n')\n",
    "    for intervalo in intervalos:\n",
    "        localizacao, inicio_semente, comprimento_semente = map(int, intervalo.split())\n",
    "        if inicio_semente <= valor_semente < inicio_semente + comprimento_semente:\n",
    "            return valor_semente - inicio_semente + localizacao\n",
    "    return valor_semente\n",
    "\n",
    "def encontrar_localizacao_minima_para_sementes(sementes, todos_mapeamentos):\n",
    "    return min(reduce(converter_semente_para_localizacao, todos_mapeamentos, int(semente)) for semente in sementes)\n",
    "\n",
    "sementes, *todos_mapeamentos = open(file_name).read().split('\\n\\n')\n",
    "resultado = encontrar_localizacao_minima_para_sementes(sementes.split()[1:], todos_mapeamentos)\n",
    "print(resultado)"
   ]
  },
  {
   "cell_type": "markdown",
   "metadata": {},
   "source": [
    "### Segunda Parte"
   ]
  },
  {
   "cell_type": "code",
   "execution_count": 17,
   "id": "b1616753-43eb-44e7-894f-7bbb917e0e1c",
   "metadata": {},
   "outputs": [
    {
     "name": "stdout",
     "output_type": "stream",
     "text": [
      "11611182\n"
     ]
    }
   ],
   "source": [
    "# Altere o nome do arquivo conforme necessário\n",
    "file_name = 'input_day5.txt'\n",
    "\n",
    "with open(file_name, 'r') as file:\n",
    "    blocos = [bloco.splitlines() for bloco in file.read().split(\"\\n\\n\")]\n",
    "\n",
    "sementes = [int(i) for i in blocos[0][0].split()[1:]]\n",
    "mapas = [[[int(i) for i in l.split()] for l in b[1:]] for b in blocos[1:]]\n",
    "\n",
    "coordenadas = list(zip(sementes[::2], sementes[1::2]))\n",
    "for mapa in mapas:\n",
    "    proximos = []\n",
    "    for destino, origem, alcance in mapa:\n",
    "        i = 0\n",
    "        while i < len(coordenadas):\n",
    "            ponto_semente, alcance_semente = coordenadas[i]\n",
    "            if origem <= ponto_semente < origem + alcance <= ponto_semente + alcance_semente:\n",
    "                proximos.append((ponto_semente - origem + destino, origem + alcance - ponto_semente))\n",
    "                coordenadas[i] = (origem + alcance, ponto_semente + alcance_semente - origem - alcance)\n",
    "            elif ponto_semente <= origem < ponto_semente + alcance_semente <= origem + alcance:\n",
    "                proximos.append((destino, ponto_semente + alcance_semente - origem))\n",
    "                coordenadas[i] = (ponto_semente, origem - ponto_semente)\n",
    "            elif ponto_semente <= origem < origem + alcance <= ponto_semente + alcance_semente:\n",
    "                proximos.append((destino, alcance))\n",
    "                coordenadas[i] = (ponto_semente, origem - ponto_semente)\n",
    "                coordenadas.append((origem + alcance, ponto_semente + alcance_semente - origem - alcance))\n",
    "            if origem <= ponto_semente < ponto_semente + alcance_semente <= origem + alcance:\n",
    "                proximos.append((ponto_semente - origem + destino, alcance_semente))\n",
    "                coordenadas[i] = coordenadas[-1]\n",
    "                del coordenadas[-1]\n",
    "            else:\n",
    "                i += 1\n",
    "    coordenadas += proximos\n",
    "\n",
    "print(min(ponto_semente for ponto_semente, alcance_semente in coordenadas))\n"
   ]
  },
  {
   "cell_type": "markdown",
   "id": "8afce5c7-19a2-44a6-894b-d367809eefd0",
   "metadata": {},
   "source": [
    "## Dia 6"
   ]
  },
  {
   "cell_type": "markdown",
   "metadata": {},
   "source": [
    "### Primeiro Desafio"
   ]
  },
  {
   "cell_type": "code",
   "execution_count": 17,
   "id": "426a3848-fcf7-4318-a9ce-7e33d1da0efc",
   "metadata": {},
   "outputs": [
    {
     "name": "stdout",
     "output_type": "stream",
     "text": [
      "Número total de maneiras de bater o recorde em cada corrida: 138915\n"
     ]
    }
   ],
   "source": [
    "def contar_formas_de_bater_recorde(tempo, distancia):\n",
    "    formas_de_bater_recorde = 0\n",
    "    for tempo_pressionado in range(tempo):\n",
    "        velocidade_barco = tempo_pressionado\n",
    "        tempo_restante = tempo - tempo_pressionado\n",
    "        distancia_total = velocidade_barco * tempo_restante\n",
    "\n",
    "        if distancia_total > distancia:\n",
    "            formas_de_bater_recorde += 1\n",
    "\n",
    "    return formas_de_bater_recorde\n",
    "\n",
    "def primeira_parte(tempo_lista, distancia_lista):    \n",
    "    total_formas_de_bater_recorde = 1  # Tratamento para a função multiplicar corretamente já que 0 * x = 0\n",
    "\n",
    "    for i in range(len(tempo_lista)):\n",
    "        formas_para_corrida = contar_formas_de_bater_recorde(tempo_lista[i], distancia_lista[i])\n",
    "        total_formas_de_bater_recorde *= formas_para_corrida\n",
    "\n",
    "    return total_formas_de_bater_recorde\n",
    "\n",
    "tempos_corrida = [46, 68, 98, 66]\n",
    "distancias_corrida = [358, 1054, 1807, 1080]\n",
    "\n",
    "resultado_primeira_parte = primeira_parte(tempos_corrida, distancias_corrida)\n",
    "print(\"Número total de maneiras de bater o recorde em cada corrida:\", resultado_primeira_parte)\n",
    "\n"
   ]
  },
  {
   "cell_type": "markdown",
   "metadata": {},
   "source": [
    "### Segunda Parte"
   ]
  },
  {
   "cell_type": "code",
   "execution_count": 16,
   "metadata": {},
   "outputs": [
    {
     "name": "stdout",
     "output_type": "stream",
     "text": [
      "Número total de maneiras de bater o recorde em cada corrida: 27340847\n"
     ]
    }
   ],
   "source": [
    "def segunda_parte(tempo_lista, distancia_lista):\n",
    "    tempo_real_corridas = int(\"\".join(map(str, tempo_lista)))\n",
    "    distancia_real_corridas = int(\"\".join(map(str, distancia_lista)))\n",
    "    \n",
    "    return primeira_parte([tempo_real_corridas], [distancia_real_corridas])\n",
    "\n",
    "resultado_segunda_parte = segunda_parte(tempos_corrida, distancias_corrida)\n",
    "print(\"Número total de maneiras de bater o recorde em cada corrida:\", resultado_segunda_parte)"
   ]
  },
  {
   "cell_type": "markdown",
   "metadata": {},
   "source": [
    "## Dia 7"
   ]
  },
  {
   "cell_type": "markdown",
   "metadata": {},
   "source": [
    "### Primeira Parte"
   ]
  },
  {
   "cell_type": "code",
   "execution_count": 51,
   "metadata": {},
   "outputs": [
    {
     "name": "stdout",
     "output_type": "stream",
     "text": [
      "250453939\n"
     ]
    }
   ],
   "source": [
    "from collections import Counter\n",
    "\n",
    "cartas_em_ordem = {\"2\": 0, \"3\": 1, \"4\": 2, \"5\": 3, \"6\": 4, \"7\": 5,\n",
    "        \"8\": 6, \"9\": 7, \"T\": 8, \"J\": 9, \"Q\": 10, \"K\": 11, \"A\": 12}\n",
    "\n",
    "tipos_maos = {\n",
    "    tuple(sorted(tipo)): i for i, tipo in enumerate([\n",
    "        [1, 1, 1, 1, 1], \n",
    "        [1, 1, 1, 2], \n",
    "        [1, 2, 2], \n",
    "        [1, 1, 3], \n",
    "        [2, 3], \n",
    "        [1, 4], \n",
    "        [5]\n",
    "    ])\n",
    "}\n",
    "\n",
    "with open(\"input_day7.txt\", \"r\") as file:\n",
    "    maos = [(sum((13 ** (4 - i)) * cartas_em_ordem[carta] for i, carta in enumerate(mao)) +\n",
    "             (13 ** 5) * tipos_maos[tuple(sorted(Counter([carta for carta in mao]).values()))],\n",
    "             int(aposta)) for mao, aposta in map(str.split, file.readlines())]\n",
    "\n",
    "maos.sort()\n",
    "\n",
    "total = sum(aposta * (i + 1) for i, (_, aposta) in enumerate(maos))\n",
    "\n",
    "print(total)"
   ]
  },
  {
   "cell_type": "markdown",
   "metadata": {},
   "source": [
    "### Segunda Parte"
   ]
  },
  {
   "cell_type": "code",
   "execution_count": null,
   "metadata": {},
   "outputs": [],
   "source": [
    "from collections import Counter\n",
    "\n",
    "cartas = {\"J\": 0, \"2\": 1, \"3\": 2, \"4\": 3, \"5\": 4,\n",
    "        \"6\": 5, \"7\": 6, \"8\": 7, \"9\": 8, \"T\": 9,\n",
    "        \"Q\": 10, \"K\": 11, \"A\": 12}\n",
    "\n",
    "cartas_em_ordem = list(\"A23456789TQKJ\")  \n",
    "\n",
    "# Dicionário dos diferentes tipos de mãos\n",
    "tipos_maos = {\n",
    "    tuple(sorted(list(reversed(tipo)))): i for i, tipo in enumerate([   \n",
    "        [1, 1, 1, 1, 1],\n",
    "        [1, 1, 1, 2],\n",
    "        [1, 2, 2],\n",
    "        [1, 1, 3],\n",
    "        [2, 3],\n",
    "        [1, 4],\n",
    "        [5]])\n",
    "}\n",
    "\n",
    "maos_com_maior_pontuacao = []\n",
    "\n",
    "with open(\"input_day7.txt\", \"r\") as file:\n",
    "    for linha in file.readlines():\n",
    "        mao, aposta = linha.split()\n",
    "        \n",
    "        if 'J' in mao:  \n",
    "            maos_temporarias = [mao]  \n",
    "            for _ in range(mao.count('J')):  \n",
    "                maos_temporarias = [temp.replace('J', carta, 1) for temp in maos_temporarias for carta in cartas_em_ordem]\n",
    "            \n",
    "            mao_com_maior_pontuacao = sorted(maos_temporarias, key=lambda mao: (tipos_maos[tuple(sorted(Counter(mao).values()))], [cartas[carta] for carta in mao]), reverse=True)[0]  \n",
    "        else:\n",
    "            mao_com_maior_pontuacao = mao\n",
    "\n",
    "        contador = Counter(mao_com_maior_pontuacao)\n",
    "        contagem = tuple(sorted(contador.values()))\n",
    "        tipo_mao = tipos_maos[contagem]\n",
    "        pontuacao_mao = sum(cartas[carta] * (13 ** (5 - i)) for i, carta in enumerate(sorted(mao_com_maior_pontuacao, key=cartas.get, reverse=False)))\n",
    "        \n",
    "        maos_com_maior_pontuacao.append((tipo_mao, pontuacao_mao, int(aposta)))\n",
    "\n",
    "maos_com_maior_pontuacao.sort()\n",
    "resultado = sum(aposta * (i+1) for i, (_, _, aposta) in enumerate(maos_com_maior_pontuacao))\n",
    "\n",
    "print(resultado)"
   ]
  },
  {
   "cell_type": "markdown",
   "metadata": {},
   "source": [
    "## Dia 8"
   ]
  },
  {
   "cell_type": "markdown",
   "id": "1c0887ab",
   "metadata": {},
   "source": [
    "### Primeira e Segunda Partes"
   ]
  },
  {
   "cell_type": "code",
   "execution_count": 46,
   "metadata": {},
   "outputs": [
    {
     "name": "stdout",
     "output_type": "stream",
     "text": [
      "O número de passos para alcançar ZZZ na Parte 1 é: 11309\n",
      "O número de passos para alcançar ZZZ na Parte 2 é: 13740108158591\n"
     ]
    }
   ],
   "source": [
    "def seguir_instrucoes(nos, no_inicial, instrucoes):\n",
    "    no_atual = no_inicial\n",
    "    contador_de_passos = 0\n",
    "\n",
    "    while True:\n",
    "        for instrucao in instrucoes:\n",
    "            if instrucao == 'L':\n",
    "                no_atual = nos[no_atual][0]  \n",
    "            elif instrucao == 'R':\n",
    "                no_atual = nos[no_atual][1]  \n",
    "\n",
    "            contador_de_passos += 1\n",
    "\n",
    "            if no_atual[-1] == 'Z':\n",
    "                return contador_de_passos\n",
    "\n",
    "\n",
    "def calcular_resultado_parte2(nos, nos_iniciais_parte2, instrucoes):\n",
    "    resultado_parte2 = 1\n",
    "\n",
    "    for no_inicial_parte2 in nos_iniciais_parte2:\n",
    "        j = 0\n",
    "        no_atual = no_inicial_parte2\n",
    "        while True:\n",
    "            d = instrucoes[j % len(instrucoes)]\n",
    "            no_atual = nos[no_atual][0] if d == 'L' else nos[no_atual][1]\n",
    "            j += 1\n",
    "\n",
    "            if no_atual[-1] == 'Z':\n",
    "                break\n",
    "\n",
    "        resultado_parte2 = lcm(resultado_parte2, j)\n",
    "\n",
    "    return resultado_parte2\n",
    "\n",
    "def ler_arquivo_entrada(caminho_arquivo):\n",
    "    with open(caminho_arquivo, 'r') as arquivo:\n",
    "        linhas = arquivo.readlines()\n",
    "\n",
    "\n",
    "    instrucoes = linhas[0].strip()\n",
    "\n",
    "\n",
    "    nos = {}\n",
    "    for linha in linhas[1:]:\n",
    "        if '=' in linha:\n",
    "            nome_no, conexoes = map(str.strip, linha.split('='))\n",
    "            nos[nome_no] = tuple(map(str.strip, conexoes[1:-1].split(',')))\n",
    "\n",
    "    return nos, instrucoes\n",
    "\n",
    "\n",
    "caminho_arquivo = 'input_day8.txt'\n",
    "nos, instrucoes = ler_arquivo_entrada(caminho_arquivo)\n",
    "no_inicial_parte1 = 'AAA'\n",
    "nos_iniciais_parte2 = [inicio for inicio in nos if inicio.endswith('A')]\n",
    "resultado_parte1 = seguir_instrucoes(nos, no_inicial_parte1, instrucoes)\n",
    "resultado_parte2 = calcular_resultado_parte2(nos, nos_iniciais_parte2, instrucoes)\n",
    "\n",
    "print(f'O número de passos para alcançar ZZZ na Parte 1 é: {resultado_parte1}')\n",
    "print(f'O número de passos para alcançar ZZZ na Parte 2 é: {resultado_parte2}')"
   ]
  },
  {
   "cell_type": "markdown",
   "id": "61a8b2bf",
   "metadata": {},
   "source": [
    "## Day 9"
   ]
  },
  {
   "cell_type": "markdown",
   "id": "d7402631",
   "metadata": {},
   "source": [
    "### Primeira e Segunda Partes"
   ]
  },
  {
   "cell_type": "code",
   "execution_count": 47,
   "metadata": {},
   "outputs": [
    {
     "name": "stdout",
     "output_type": "stream",
     "text": [
      "parte 1: 1904165718\n",
      "parte 2: 964\n"
     ]
    }
   ],
   "source": [
    "def processar_dados(conteudo):\n",
    "    return [[int(x) for x in linha.strip().split()] for linha in conteudo]\n",
    "\n",
    "def estimar(valor):\n",
    "    if valor[0] == 0 and sum(valor) == 0:\n",
    "        return [0, 0]\n",
    "    \n",
    "    diferencas = []\n",
    "    for i in range(len(valor) - 1):\n",
    "        diferencas.append(valor[i+1] - valor[i])\n",
    "    \n",
    "    primeiro = valor[0] - estimar(diferencas)[0]\n",
    "    ultimo = valor[-1] + estimar(diferencas)[1]\n",
    "    \n",
    "    return [primeiro, ultimo]\n",
    "\n",
    "with open('input_day9.txt') as f:\n",
    "    conteudo = f.readlines()\n",
    "\n",
    "valores = processar_dados(conteudo)\n",
    "resultados = [estimar(valor) for valor in valores]\n",
    "soma_primeiros, soma_ultimos = zip(*resultados)\n",
    "\n",
    "print('parte 1:', sum(soma_ultimos))\n",
    "print('parte 2:', sum(soma_primeiros))"
   ]
  },
  {
   "cell_type": "markdown",
   "id": "ad3e7b1e",
   "metadata": {},
   "source": [
    "## Dia 10"
   ]
  },
  {
   "cell_type": "code",
   "execution_count": 15,
   "id": "525709bf",
   "metadata": {},
   "outputs": [
    {
     "name": "stdout",
     "output_type": "stream",
     "text": [
      "7030\n",
      "751\n"
     ]
    }
   ],
   "source": [
    "from collections import deque\n",
    "\n",
    "def calcular(arquivo_entrada):\n",
    "    with open(arquivo_entrada, \"r\") as f:\n",
    "        linhas = [list(linha.strip()) for linha in f]\n",
    "\n",
    "    tipos_tubo = {\n",
    "        \"|\": [\"n\", \"s\"],\n",
    "        \"-\": [\"o\", \"l\"],\n",
    "        \"L\": [\"n\", \"l\"],\n",
    "        \"J\": [\"n\", \"o\"],\n",
    "        \"7\": [\"s\", \"o\"],\n",
    "        \"F\": [\"s\", \"l\"],\n",
    "        'S': [\"n\", \"s\", \"o\", \"l\"],\n",
    "    }\n",
    "\n",
    "    direcoes = {\n",
    "        \"n\": (-1, 0, \"s\"),\n",
    "        \"s\": (1, 0, \"n\"),\n",
    "        \"o\": (0, -1, \"l\"),\n",
    "        \"l\": (0, 1, \"o\"),\n",
    "    }\n",
    "\n",
    "    inicio = next((i, j) for i, linha in enumerate(linhas) for j, celula in enumerate(linha) if celula == 'S')\n",
    "\n",
    "    lugares_visitados = {inicio: 0}\n",
    "    fila_pesquisa = deque([inicio])\n",
    "\n",
    "    while fila_pesquisa:\n",
    "        atual = fila_pesquisa.popleft()\n",
    "        i, j = atual\n",
    "        for direcao, (di, dj, oposto) in direcoes.items():\n",
    "            novo = (i + di, j + dj)\n",
    "            if not (0 <= novo[0] < len(linhas) and 0 <= novo[1] < len(linhas[0])):\n",
    "                continue\n",
    "            if novo in lugares_visitados:\n",
    "                continue\n",
    "            alvo = linhas[novo[0]][novo[1]]\n",
    "            if alvo not in tipos_tubo or oposto not in tipos_tubo[alvo]:\n",
    "                continue\n",
    "            lugares_visitados[novo] = lugares_visitados[atual] + 1\n",
    "            fila_pesquisa.append(novo)\n",
    "\n",
    "    print(max(lugares_visitados.values()))\n",
    "\n",
    "    for i in range(len(linhas)):\n",
    "        nortes = 0\n",
    "        for j in range(len(linhas[i])):\n",
    "            if (i, j) in lugares_visitados:\n",
    "                if 'n' in tipos_tubo[linhas[i][j]]:\n",
    "                    nortes += 1\n",
    "                continue\n",
    "            if nortes % 2 == 0:\n",
    "                linhas[i][j] = 'O'\n",
    "            else:\n",
    "                linhas[i][j] = 'I'\n",
    "\n",
    "    print(sum(celula == 'I' for linha in linhas for celula in linha))\n",
    "\n",
    "calcular(\"input_day10.txt\")"
   ]
  },
  {
   "cell_type": "markdown",
   "id": "c44e5e3e",
   "metadata": {},
   "source": [
    "## Dia 11"
   ]
  },
  {
   "cell_type": "markdown",
   "id": "f1bfe2d6",
   "metadata": {},
   "source": [
    "### Primeira Parte"
   ]
  },
  {
   "cell_type": "code",
   "execution_count": 18,
   "id": "a07eed1c",
   "metadata": {},
   "outputs": [
    {
     "name": "stdout",
     "output_type": "stream",
     "text": [
      "9965032\n",
      "550358864332\n"
     ]
    }
   ],
   "source": [
    "from itertools import combinations as comb\n",
    "\n",
    "def ler_arquivo(arquivo):\n",
    "    return [linha.strip() for linha in open(arquivo)]\n",
    "\n",
    "def obter_indices_vazios(lista, transposta):\n",
    "    indices_linhas_vazias = {i for i in range(len(lista)) if set(lista[i]) == {'.'}}\n",
    "    indices_colunas_vazias = {j for j in range(len(transposta)) if set(transposta[j]) == {'.'}}\n",
    "    return indices_linhas_vazias, indices_colunas_vazias\n",
    "\n",
    "def obter_galaxias(lista):\n",
    "    return [(i, j) for i in range(len(lista)) for j in range(len(lista[0])) if lista[i][j] == '#']\n",
    "\n",
    "def expandir(i, j, indices_linhas_vazias, indices_colunas_vazias, por=1):\n",
    "    return i + por*len(set(range(i))&indices_linhas_vazias), j + por*len(set(range(j))&indices_colunas_vazias)\n",
    "\n",
    "def calcular_distancias(partes):\n",
    "    for parte in partes:\n",
    "        print(sum(abs(p[0][0]-p[1][0]) + abs(p[0][1]-p[1][1]) for p in list(comb(parte, 2))))\n",
    "\n",
    "\n",
    "lista = ler_arquivo('input_day11.txt')\n",
    "transposta = list(zip(*lista))\n",
    "indices_linhas_vazias, indices_colunas_vazias = obter_indices_vazios(lista, transposta)\n",
    "galaxias = obter_galaxias(lista)\n",
    "partes = [[expandir(*g, indices_linhas_vazias, indices_colunas_vazias, i) for g in galaxias] for i in [1, 999_999]]\n",
    "calcular_distancias(partes)"
   ]
  },
  {
   "cell_type": "code",
   "execution_count": null,
   "id": "0d45a6b8",
   "metadata": {},
   "outputs": [],
   "source": []
  }
 ],
 "metadata": {
  "kernelspec": {
   "display_name": "Python 3 (ipykernel)",
   "language": "python",
   "name": "python3"
  },
  "language_info": {
   "codemirror_mode": {
    "name": "ipython",
    "version": 3
   },
   "file_extension": ".py",
   "mimetype": "text/x-python",
   "name": "python",
   "nbconvert_exporter": "python",
   "pygments_lexer": "ipython3",
   "version": "3.9.7"
  }
 },
 "nbformat": 4,
 "nbformat_minor": 5
}
