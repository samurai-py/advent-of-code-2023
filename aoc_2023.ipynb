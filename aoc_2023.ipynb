{
 "cells": [
  {
   "cell_type": "markdown",
   "id": "706d9db2-c855-4ea2-8940-c7f1ad9aa01e",
   "metadata": {},
   "source": [
    "# Advent of Code 2023"
   ]
  },
  {
   "cell_type": "markdown",
   "id": "bac5b1bf-5715-41bc-8120-b0fe7e5047c6",
   "metadata": {},
   "source": [
    "## Dia 1"
   ]
  },
  {
   "cell_type": "code",
   "execution_count": 22,
   "id": "cae9d91f-aca0-4b7e-b719-7aebb4622266",
   "metadata": {},
   "outputs": [],
   "source": [
    "import requests\n",
    "\n",
    "def get_content(url, cookie):\n",
    "    # Faz a requisição\n",
    "    response = requests.get(url, headers=cookie)\n",
    "\n",
    "    # Verifica se a requisição foi bem-sucedida (código de status 200)\n",
    "    if response.status_code == 200:\n",
    "        conteudo = response.text\n",
    "        print(type(conteudo))\n",
    "        return conteudo\n",
    "    else:\n",
    "        return f\"A requisição falhou com o código de status {response.status_code}\"\n",
    "    \n",
    "url = \"https://adventofcode.com/2023/day/1/input\"\n",
    "\n",
    "# Substitua 'SEU_COOKIE_AQUI' pelo valor real do seu cookie de sessão do Advent of Code\n",
    "cookie = {\n",
    "    \"Cookie\": \"session=_ga=GA1.2.973831387.1701272139; session=53616c7465645f5f28646d904e1537437ba6312cadb4c365307c4be768a01112691c32f61b99e101ee71668c8da0c901b3269a6b52f23a22d08dbfb0d82863e3; _gid=GA1.2.622329841.1701408306; _gat=1; _ga_MHSNPJKWC7=GS1.2.1701408306.2.1.1701408982.0.0.0\"\n",
    "}\n"
   ]
  },
  {
   "cell_type": "markdown",
   "id": "47372165-2e16-48cd-9e3a-09e1a1c92dd9",
   "metadata": {
    "tags": []
   },
   "source": [
    "### Primeiro Desafio"
   ]
  },
  {
   "cell_type": "code",
   "execution_count": 23,
   "id": "0549f164-fe8e-47d5-ac19-ae4cb4df33f2",
   "metadata": {},
   "outputs": [
    {
     "name": "stdout",
     "output_type": "stream",
     "text": [
      "<class 'str'>\n",
      "Soma total dos valores de calibração: 54667\n"
     ]
    }
   ],
   "source": [
    "def extrair_valores_calibracao_linha(linha):\n",
    "    valores_numericos = [caracter for caracter in linha if caracter.isnumeric()]\n",
    "\n",
    "    if len(valores_numericos) == 0:\n",
    "        return [0]\n",
    "    elif len(valores_numericos) == 1:\n",
    "        return [int(valores_numericos[0])]\n",
    "    else:\n",
    "        primeiro = int(valores_numericos[0])\n",
    "        ultimo = int(valores_numericos[-1])\n",
    "        return [primeiro, ultimo]\n",
    "\n",
    "def calcular_soma_calibracao_documento(documento):\n",
    "    linhas = documento.splitlines()\n",
    "    soma_total = sum(\n",
    "        int(str(extrair_valores_calibracao_linha(linha)[0]) + str(extrair_valores_calibracao_linha(linha)[-1]))\n",
    "        for linha in linhas\n",
    "    )\n",
    "    return soma_total\n",
    "\n",
    "\n",
    "documento_calibracao = get_content(url=url, cookie=cookie)\n",
    "\n",
    "soma_total = calcular_soma_calibracao_documento(documento_calibracao)\n",
    "print(f\"Soma total dos valores de calibração: {soma_total}\")"
   ]
  },
  {
   "cell_type": "markdown",
   "id": "c5400d0e-8e2e-4e5e-88d8-1433d75bdb06",
   "metadata": {},
   "source": [
    "### Segundo Desafio"
   ]
  },
  {
   "cell_type": "code",
   "execution_count": 24,
   "id": "1863f542-047d-47e6-be74-ba0d357b5204",
   "metadata": {},
   "outputs": [
    {
     "name": "stdout",
     "output_type": "stream",
     "text": [
      "<class 'str'>\n",
      "Soma total dos valores de calibração: 54203\n"
     ]
    }
   ],
   "source": [
    "def extrair_valores_calibracao_linha(linha):\n",
    "    valores_numericos = [caracter for caracter in linha if caracter.isnumeric()]\n",
    "\n",
    "    if len(valores_numericos) == 0:\n",
    "        return [0]\n",
    "    elif len(valores_numericos) == 1:\n",
    "        return [int(valores_numericos[0])]\n",
    "    else:\n",
    "        primeiro = int(valores_numericos[0])\n",
    "        ultimo = int(valores_numericos[-1])\n",
    "        return [primeiro, ultimo]\n",
    "\n",
    "def substituir_strings(linha):\n",
    "    replacements_dictionary = {'one': 'on1e', 'two': 'tw2o', 'three': 'thr3e', 'four': 'fo4ur', 'five': 'fi5ve',\n",
    "                               'six': 'si6x', 'seven': 'sev7en', 'eight': 'ei8ght', 'nine': 'ni9ne'}\n",
    "\n",
    "    # Substituir palavras pelo dicionário\n",
    "    for key, value in replacements_dictionary.items():\n",
    "        linha = linha.replace(key, value)\n",
    "\n",
    "    return linha\n",
    "\n",
    "def calcular_soma_calibracao_documento(documento):\n",
    "    linhas = documento.splitlines()\n",
    "    soma_total = sum(\n",
    "        int(str(extrair_valores_calibracao_linha(substituir_strings(linha))[0]) +\n",
    "            str(extrair_valores_calibracao_linha(substituir_strings(linha))[-1]))\n",
    "        for linha in linhas\n",
    "    )\n",
    "    return soma_total\n",
    "\n",
    "\n",
    "documento_calibracao = get_content(url=url, cookie=cookie)\n",
    "\n",
    "soma_total = calcular_soma_calibracao_documento(documento_calibracao)\n",
    "print(f\"Soma total dos valores de calibração: {soma_total}\")\n"
   ]
  },
  {
   "cell_type": "code",
   "execution_count": null,
   "id": "a77fb84d-f42d-46bf-83e8-b3d958ea2c03",
   "metadata": {},
   "outputs": [],
   "source": []
  },
  {
   "cell_type": "code",
   "execution_count": null,
   "id": "9bd40783-fbb2-4da2-8b75-09f960884141",
   "metadata": {},
   "outputs": [],
   "source": []
  }
 ],
 "metadata": {
  "kernelspec": {
   "display_name": "Python 3 (ipykernel)",
   "language": "python",
   "name": "python3"
  },
  "language_info": {
   "codemirror_mode": {
    "name": "ipython",
    "version": 3
   },
   "file_extension": ".py",
   "mimetype": "text/x-python",
   "name": "python",
   "nbconvert_exporter": "python",
   "pygments_lexer": "ipython3",
   "version": "3.9.7"
  }
 },
 "nbformat": 4,
 "nbformat_minor": 5
}
